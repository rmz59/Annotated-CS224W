{
 "cells": [
  {
   "cell_type": "markdown",
   "id": "5905faf3",
   "metadata": {},
   "source": [
    "# Random Walk Approaches for Node Embeddings"
   ]
  },
  {
   "cell_type": "markdown",
   "id": "8dba904c",
   "metadata": {},
   "source": [
    "## Random Walk\n",
    "![](figures/03-nodeemb_20.jpeg)\n",
    "![](figures/03-nodeemb_21.jpeg)"
   ]
  },
  {
   "cell_type": "code",
   "execution_count": 5,
   "id": "e0362785",
   "metadata": {},
   "outputs": [],
   "source": [
    "import networkx as nx\n",
    "import numpy as np\n",
    "\n",
    "G = nx.Graph()\n",
    "G.add_nodes_from(range(1,13))\n",
    "G.add_edges_from([\n",
    "        (1, 2), (1, 3), (1, 4),\n",
    "        (2, 3), (2, 8), \n",
    "        (3, 4), \n",
    "        (4, 5), \n",
    "        (5, 6), (5, 7), (5,8),\n",
    "        (6,7), (8, 9), (8, 11),\n",
    "        (9, 10), (10, 11), (10, 12),\n",
    "        (11, 12)\n",
    "    ])\n",
    "\n",
    "def generate_walks(G, source_node, walk_len=5):\n",
    "    walk = [source_node]\n",
    "    for _ in range(walk_len):\n",
    "        walk_options = list(G.neighbors(source_node))\n",
    "        source_node = np.random.choice(walk_options)\n",
    "        walk.append(source_node)\n",
    "    return walk"
   ]
  },
  {
   "cell_type": "code",
   "execution_count": 28,
   "id": "8c001b76",
   "metadata": {},
   "outputs": [
    {
     "data": {
      "text/plain": [
       "[4, 5, 8, 9, 10, 9]"
      ]
     },
     "execution_count": 28,
     "metadata": {},
     "output_type": "execute_result"
    }
   ],
   "source": [
    "generate_walks(G, 4, walk_len=5)"
   ]
  },
  {
   "cell_type": "markdown",
   "id": "8b4f574b",
   "metadata": {},
   "source": [
    "![](figures/03-nodeemb_22.jpeg)\n",
    "![](figures/03-nodeemb_23.jpeg)\n",
    "![](figures/03-nodeemb_24.jpeg)"
   ]
  },
  {
   "cell_type": "code",
   "execution_count": null,
   "id": "7d9a2e1b",
   "metadata": {},
   "outputs": [],
   "source": []
  }
 ],
 "metadata": {
  "kernelspec": {
   "display_name": "Python 3",
   "language": "python",
   "name": "python3"
  },
  "language_info": {
   "codemirror_mode": {
    "name": "ipython",
    "version": 3
   },
   "file_extension": ".py",
   "mimetype": "text/x-python",
   "name": "python",
   "nbconvert_exporter": "python",
   "pygments_lexer": "ipython3",
   "version": "3.7.7"
  }
 },
 "nbformat": 4,
 "nbformat_minor": 5
}
