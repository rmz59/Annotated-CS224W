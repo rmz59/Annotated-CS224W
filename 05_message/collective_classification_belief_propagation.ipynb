{
 "cells": [
  {
   "cell_type": "markdown",
   "id": "ad5292d3-944f-47b4-b93e-dede7eb28670",
   "metadata": {},
   "source": [
    "# Collective Classification: Belief Propagation\n",
    "\n",
    "## Message Passing\n",
    "### Basics\n",
    "![](figures/05-message_51.jpeg)\n",
    "![](figures/05-message_52.jpeg)\n",
    "![](figures/05-message_53.jpeg)\n",
    "![](figures/05-message_54.jpeg)\n",
    "### Message Passing in a tree\n",
    "![](figures/05-message_55.jpeg)\n",
    "![](figures/05-message_56.jpeg)\n",
    "![](figures/05-message_57.jpeg)\n",
    "## Loopy BP Algorithm\n",
    "![](figures/05-message_58.jpeg)\n",
    "![](figures/05-message_59.jpeg)\n",
    "![](figures/05-message_60.jpeg)\n",
    "![](figures/05-message_61.jpeg)\n",
    "### Graphs with Cycles\n",
    "![](figures/05-message_62.jpeg)\n",
    "![](figures/05-message_63.jpeg)\n",
    "![](figures/05-message_64.jpeg)\n",
    "![](figures/05-message_65.jpeg)\n",
    "## Advantages of Belief Propagation\n",
    "![](figures/05-message_66.jpeg)"
   ]
  },
  {
   "cell_type": "markdown",
   "id": "4b131f7d-9d84-4fa2-b56c-dd85b525f675",
   "metadata": {},
   "source": [
    "## Implementation of Loopy BP Algorithm"
   ]
  },
  {
   "cell_type": "code",
   "execution_count": null,
   "id": "1deecf18-f0eb-4ad6-bc1c-3d8fc71e12eb",
   "metadata": {},
   "outputs": [],
   "source": []
  }
 ],
 "metadata": {
  "kernelspec": {
   "display_name": "Python 3",
   "language": "python",
   "name": "python3"
  },
  "language_info": {
   "codemirror_mode": {
    "name": "ipython",
    "version": 3
   },
   "file_extension": ".py",
   "mimetype": "text/x-python",
   "name": "python",
   "nbconvert_exporter": "python",
   "pygments_lexer": "ipython3",
   "version": "3.9.1"
  }
 },
 "nbformat": 4,
 "nbformat_minor": 5
}
