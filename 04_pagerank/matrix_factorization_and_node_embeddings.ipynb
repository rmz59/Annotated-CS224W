{
 "cells": [
  {
   "cell_type": "markdown",
   "id": "0b55dc2c-8c58-40e7-b013-32af306b88df",
   "metadata": {},
   "source": [
    "# PageRank"
   ]
  },
  {
   "cell_type": "markdown",
   "id": "f77a4013-b262-480b-a833-f0faa266448f",
   "metadata": {},
   "source": [
    "## Embeddings & Matrix Factorization\n",
    "![](figures/04-pagerank_55.jpeg)\n",
    "![](figures/04-pagerank_56.jpeg)\n",
    "![](figures/04-pagerank_57.jpeg)\n",
    "TL;DR: inner product decoder with node similarity defined by edge connectivity is equivalent to matrix factorization of **_A_**, where **_A_** is the adjacenty matrix."
   ]
  },
  {
   "cell_type": "markdown",
   "id": "e95623ad-8914-4664-b844-f24d6b5c565a",
   "metadata": {},
   "source": [
    "## Random Walk-based Similarity & Matrix Factorization\n",
    "![](figures/04-pagerank_58.jpeg)\n",
    "![](figures/04-pagerank_59.jpeg)"
   ]
  },
  {
   "cell_type": "markdown",
   "id": "0b94c39f-98d1-440d-b71a-b1dfe7d5bf68",
   "metadata": {},
   "source": [
    "## Limitations\n",
    "![](figures/04-pagerank_60.jpeg)\n",
    "![](figures/04-pagerank_61.jpeg)\n",
    "![](figures/04-pagerank_62.jpeg)"
   ]
  },
  {
   "cell_type": "markdown",
   "id": "dfb4385d-a659-4971-b094-d8b9c13e170a",
   "metadata": {},
   "source": [
    "## Summary\n",
    "![](figures/04-pagerank_63.jpeg)"
   ]
  }
 ],
 "metadata": {
  "kernelspec": {
   "display_name": "Python 3",
   "language": "python",
   "name": "python3"
  },
  "language_info": {
   "codemirror_mode": {
    "name": "ipython",
    "version": 3
   },
   "file_extension": ".py",
   "mimetype": "text/x-python",
   "name": "python",
   "nbconvert_exporter": "python",
   "pygments_lexer": "ipython3",
   "version": "3.9.1"
  }
 },
 "nbformat": 4,
 "nbformat_minor": 5
}
