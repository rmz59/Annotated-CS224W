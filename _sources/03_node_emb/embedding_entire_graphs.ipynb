{
 "cells": [
  {
   "cell_type": "markdown",
   "id": "56cf8d5f",
   "metadata": {},
   "source": [
    "# Embedding Entire Graphs"
   ]
  },
  {
   "cell_type": "markdown",
   "id": "29a9bf29",
   "metadata": {},
   "source": [
    "![](figures/03-nodeemb_51.jpeg)"
   ]
  },
  {
   "cell_type": "markdown",
   "id": "9b921406",
   "metadata": {},
   "source": [
    "## Approaches to embed graphs\n",
    "![](figures/03-nodeemb_52.jpeg)\n",
    "![](figures/03-nodeemb_53.jpeg)\n",
    "![](figures/03-nodeemb_54.jpeg)\n",
    "![](figures/03-nodeemb_55.jpeg)"
   ]
  },
  {
   "cell_type": "markdown",
   "id": "98a6b039",
   "metadata": {},
   "source": [
    "It is straightforward to convert random walks to its anonymous peer."
   ]
  },
  {
   "cell_type": "code",
   "execution_count": 1,
   "id": "942d615d",
   "metadata": {},
   "outputs": [],
   "source": [
    "def generate_walks(G, source_node=None, walk_len=40):\n",
    "    if source_node is None:\n",
    "        source_node = np.random.choice(list(G.nodes()))\n",
    "    walk = [source_node]\n",
    "    for _ in range(walk_len):\n",
    "        walk_options = list(G.neighbors(source_node))\n",
    "        source_node = np.random.choice(walk_options)\n",
    "        walk.append(source_node)\n",
    "    return walk\n",
    "\n",
    "\n",
    "def convert_walk(random_walks):\n",
    "    annoymous_walk = []\n",
    "    label_map = {}\n",
    "    idx = 0\n",
    "    for node in random_walks:\n",
    "        if not node in label_map:\n",
    "            label_map[node] = idx\n",
    "            idx += 1\n",
    "        annoymous_walk.append(label_map[node])\n",
    "    return annoymous_walk "
   ]
  },
  {
   "cell_type": "code",
   "execution_count": 2,
   "id": "ca33c1df",
   "metadata": {},
   "outputs": [
    {
     "data": {
      "image/png": "[encoded data removed]",
      "text/plain": [
       "<Figure size 432x288 with 1 Axes>"
      ]
     },
     "metadata": {},
     "output_type": "display_data"
    },
    {
     "name": "stdout",
     "output_type": "stream",
     "text": [
      "['D', 'C', 'D', 'C', 'D', 'B'] - [0, 1, 0, 1, 0, 2]\n",
      "['A', 'B', 'C', 'D', 'B', 'A'] - [0, 1, 2, 3, 1, 0]\n",
      "['A', 'B', 'D', 'E', 'D', 'C'] - [0, 1, 2, 3, 2, 4]\n",
      "['D', 'E', 'F', 'E', 'F', 'E'] - [0, 1, 2, 1, 2, 1]\n",
      "['F', 'E', 'D', 'E', 'F', 'E'] - [0, 1, 2, 1, 0, 1]\n"
     ]
    }
   ],
   "source": [
    "import networkx as nx\n",
    "import numpy as np\n",
    "import matplotlib.pyplot as plt\n",
    "\n",
    "np.random.seed(42)\n",
    "\n",
    "G = nx.Graph()\n",
    "G.add_nodes_from(['A','B','C','D','E','F'])\n",
    "G.add_edges_from([\n",
    "        ('A','B'), ('B','C'), ('B','D'),\n",
    "        ('C','D'), ('D','E'), ('E','F')\n",
    "    ])\n",
    "\n",
    "\n",
    "nx.draw(G, with_labels=True)\n",
    "plt.show()\n",
    "\n",
    "for _ in range(5):\n",
    "    w = generate_walks(G, walk_len=5)\n",
    "    an_w = convert_walk(w)\n",
    "    print(f\"{w} - {an_w}\")"
   ]
  },
  {
   "cell_type": "markdown",
   "id": "22f0b34a",
   "metadata": {},
   "source": [
    "## Anonymous Walk Embeddings\n",
    "![](figures/03-nodeemb_57.jpeg)\n",
    "![](figures/03-nodeemb_58.jpeg)\n",
    "![](figures/03-nodeemb_59.jpeg)\n",
    "![](figures/03-nodeemb_60.jpeg)\n",
    "![](figures/03-nodeemb_61.jpeg)\n",
    "![](figures/03-nodeemb_62.jpeg)\n",
    "![](figures/03-nodeemb_63.jpeg)"
   ]
  },
  {
   "cell_type": "code",
   "execution_count": 33,
   "id": "2093a026-04ae-425b-a6d8-bc88b476f110",
   "metadata": {},
   "outputs": [],
   "source": [
    "import networkx as nx\n",
    "import numpy as np\n",
    "import torch\n",
    "from torch import Tensor\n",
    "import torch.nn.functional as F\n",
    "\n",
    "from torch_geometric.datasets import TUDataset\n",
    "from torch_geometric.utils.convert import to_networkx\n",
    "import matplotlib.pyplot as plt"
   ]
  },
  {
   "cell_type": "code",
   "execution_count": 76,
   "id": "99f688b7-d762-457a-b923-1dca7a5fc919",
   "metadata": {},
   "outputs": [],
   "source": [
    "mutag = TUDataset(root=\"../datasets\", name=\"MUTAG\")\n",
    "\n",
    "atom_labels = {\n",
    "    0: \"C\", 1: \"N\", 2: \"O\", 3: \"F\",\n",
    "    4: \"I\",  5: \"Cl\", 6: \"Br\"\n",
    "    }\n",
    "\n",
    "bond_labels = {\n",
    "    0: \"aromatic\", 1: \"single\", 2: \"double\", 3: \"triple\"\n",
    "   }"
   ]
  },
  {
   "cell_type": "code",
   "execution_count": 77,
   "id": "d6c70543-9f58-4bc5-a6c9-ea3462afa607",
   "metadata": {},
   "outputs": [],
   "source": [
    "def mutag_plot(data):\n",
    "    g = to_networkx(data, to_undirected=True)\n",
    "    node_labels = {idx: atom_labels[atom] for idx, atom  in enumerate(data.x.argmax(1).tolist())}\n",
    "    edge_labels = data.edge_attr.argmax(1).tolist()\n",
    "    edge_labels = { (a, b): edge_labels[i] for i, (a, b) in enumerate(data.edge_index.t().tolist()) if a<b }\n",
    "    \n",
    "    pos = nx.spring_layout(g)\n",
    "    nx.draw(g, pos=pos, labels=node_labels)\n",
    "    nx.draw_networkx_edge_labels(g, pos=pos, edge_labels=edge_labels)\n",
    "    \n",
    "    plt.show()"
   ]
  },
  {
   "cell_type": "code",
   "execution_count": 93,
   "id": "2d129328-e88e-447d-b813-d03000d804e4",
   "metadata": {},
   "outputs": [],
   "source": [
    "def get_graph(data, graph_id):\n",
    "    \"\"\" convert MUTAG graph to networkx graphs\n",
    "    \"\"\"\n",
    "    g = to_networkx(data, to_undirected=True)\n",
    "\n",
    "    for idx, atom  in enumerate(data.x.argmax(1).tolist()):\n",
    "        g.nodes[idx]['atom'] = atom\n",
    "    edge_labels = data.edge_attr.argmax(1).tolist()\n",
    "    for idx, (a, b) in enumerate(data.edge_index.t().tolist()):\n",
    "        if a < b:\n",
    "            g.edges[a, b]['bond'] = edge_labels[idx]\n",
    "    g.graph['id'] = graph_id\n",
    "    g.graph['label'] = data.y.tolist()[0]\n",
    "    return g"
   ]
  },
  {
   "cell_type": "code",
   "execution_count": 91,
   "id": "7ca3cca0-5058-4839-b316-96ea1f061189",
   "metadata": {},
   "outputs": [],
   "source": [
    "def convert_walk(random_walks):\n",
    "    annoymous_walk = []\n",
    "    label_map = {}\n",
    "    idx = 0\n",
    "    for node in random_walks:\n",
    "        if not node in label_map:\n",
    "            label_map[node] = idx\n",
    "            idx += 1\n",
    "        annoymous_walk.append(label_map[node])\n",
    "    return annoymous_walk \n",
    "\n",
    "\n",
    "def generate_random_walk(G, source_node, step_size):\n",
    "    '''Creates anonymous walk from a node for arbitrary steps with usage of edge and node labels.\n",
    "    Returns a tuple with consequent nodes and edges.'''\n",
    "    node_idx = 0\n",
    "    edge_idx = 0\n",
    "    pattern = [0]\n",
    "    node_labels = dict()\n",
    "    edge_labels = dict()\n",
    "    for _ in range(step_size):\n",
    "        target_node = np.random.choice(list(G.neighbors(source_node)))\n",
    "        node_label = G.nodes[source_node]['atom']\n",
    "        edge_label = int(G.edges[source_node, target_node]['bond'])\n",
    "        if node_label not in node_labels:\n",
    "            node_labels[node_label] = node_idx\n",
    "            node_idx += 1\n",
    "        if edge_label not in edge_labels:\n",
    "            edge_labels[edge_label] = edge_idx\n",
    "            edge_idx += 1\n",
    "        pattern.append(node_labels[node_label])\n",
    "        pattern.append(edge_labels[edge_label])\n",
    "        source_node = target_node\n",
    "    return tuple(pattern)\n",
    "\n",
    "\n",
    "def get_batch(g, batch_size=32, step_size=10):\n",
    "    source_nodes = list(g.nodes)\n",
    "    rws = [generate_random_walk(g, np.random.choice(source_nodes), step_size)  for _ in range(batch_size)]\n",
    "    graph_ids = [g.graph['id']  for _ in range(batch_size)]\n",
    "    labels = tuple(g.graph['label'] for _ in range(batch_size))\n",
    "    return rws, labels"
   ]
  }
 ],
 "metadata": {
  "kernelspec": {
   "display_name": "Python 3",
   "language": "python",
   "name": "python3"
  },
  "language_info": {
   "codemirror_mode": {
    "name": "ipython",
    "version": 3
   },
   "file_extension": ".py",
   "mimetype": "text/x-python",
   "name": "python",
   "nbconvert_exporter": "python",
   "pygments_lexer": "ipython3",
   "version": "3.9.1"
  }
 },
 "nbformat": 4,
 "nbformat_minor": 5
}
