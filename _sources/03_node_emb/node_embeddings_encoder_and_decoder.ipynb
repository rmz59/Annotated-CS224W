{
 "cells": [
  {
   "cell_type": "markdown",
   "id": "5905faf3",
   "metadata": {},
   "source": [
    "# Node Embeddings: Encoder and Decoder"
   ]
  },
  {
   "cell_type": "markdown",
   "id": "8dba904c",
   "metadata": {},
   "source": [
    "## Setup\n",
    "![](figures/03-nodeemb_8.jpeg)"
   ]
  },
  {
   "cell_type": "code",
   "execution_count": 32,
   "id": "366a08ae",
   "metadata": {},
   "outputs": [
    {
     "data": {
      "image/png": "[encoded data removed]",
      "text/plain": [
       "<Figure size 432x288 with 1 Axes>"
      ]
     },
     "metadata": {},
     "output_type": "display_data"
    }
   ],
   "source": [
    "import torch\n",
    "import networkx as nx\n",
    "from torch_geometric.data import Data\n",
    "from torch_geometric.utils.convert import to_networkx\n",
    "\n",
    "# Dimension of node_labels: [num_nodes, num_node_features]\n",
    "# Dimension of edge_index: [2, num_edges]\n",
    "# For an undirected edge between `u` and `v`, we need to define two edges.\n",
    "node_label = torch.tensor([[0],[1],[2],[3]])\n",
    "edge_index = torch.tensor([[0, 1],[1,0],\n",
    "                           [0, 3],[3,0],\n",
    "                           [1, 3],[3,1],\n",
    "                           [2, 3],[3,2]\n",
    "                          ]).t().contiguous()\n",
    "\n",
    "graph = Data(x=node_label, edge_index=edge_index)\n",
    "node_label_list = node_label.t().squeeze().numpy()\n",
    "nx.draw(to_networkx(graph, to_undirected=True),\n",
    "        node_color='r', with_labels=True)"
   ]
  },
  {
   "cell_type": "markdown",
   "id": "7a276ecc",
   "metadata": {},
   "source": [
    "## Embedding Nodes\n",
    "### Overview\n",
    "![](figures/03-nodeemb_9.jpeg)\n",
    "![](figures/03-nodeemb_10.jpeg)\n",
    "### Learning Node Embeddings\n",
    "![](figures/03-nodeemb_11.jpeg)\n",
    "![](figures/03-nodeemb_12.jpeg)\n",
    "### Shallow Encoding\n",
    "![](figures/03-nodeemb_13.jpeg)\n",
    "![](figures/03-nodeemb_14.jpeg)\n",
    "![](figures/03-nodeemb_15.jpeg)\n",
    "![](figures/03-nodeemb_16.jpeg)\n",
    "### Define Node Similarity via Random Walks\n",
    "![](figures/03-nodeemb_17.jpeg)\n",
    "![](figures/03-nodeemb_18.jpeg)"
   ]
  },
  {
   "cell_type": "code",
   "execution_count": null,
   "id": "8a558dff",
   "metadata": {},
   "outputs": [],
   "source": []
  }
 ],
 "metadata": {
  "kernelspec": {
   "display_name": "Python 3",
   "language": "python",
   "name": "python3"
  },
  "language_info": {
   "codemirror_mode": {
    "name": "ipython",
    "version": 3
   },
   "file_extension": ".py",
   "mimetype": "text/x-python",
   "name": "python",
   "nbconvert_exporter": "python",
   "pygments_lexer": "ipython3",
   "version": "3.7.7"
  }
 },
 "nbformat": 4,
 "nbformat_minor": 5
}
