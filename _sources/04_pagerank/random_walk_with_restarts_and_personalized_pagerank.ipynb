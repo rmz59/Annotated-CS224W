{
 "cells": [
  {
   "cell_type": "markdown",
   "id": "816386d0-46b5-460e-8eab-edf75d60e543",
   "metadata": {},
   "source": [
    "# Random Walk with Restarts and Personalized PageRank "
   ]
  },
  {
   "cell_type": "markdown",
   "id": "0519f4cd-6f0c-4ed0-a531-8cf48d66e95e",
   "metadata": {},
   "source": [
    "## PageRank and Recommendations\n",
    "![](figures/04-pagerank_40.jpeg)\n",
    "![](figures/04-pagerank_41.jpeg)\n",
    "![](figures/04-pagerank_42.jpeg)\n",
    "![](figures/04-pagerank_44.jpeg)\n",
    "![](figures/04-pagerank_45.jpeg)"
   ]
  },
  {
   "cell_type": "markdown",
   "id": "34878b5a-637b-4735-842e-484c3bc369bc",
   "metadata": {},
   "source": [
    "## Proximity on Graphs\n",
    "![](figures/04-pagerank_46.jpeg)"
   ]
  },
  {
   "cell_type": "markdown",
   "id": "cf284cee-0863-4ebb-a5c6-d7f7ba2b3f97",
   "metadata": {},
   "source": [
    "### Implementation\n",
    "In practice, one can modify the teleport vector to implement a personalized Pagerank. For large graphs, an iteration method is preferred."
   ]
  },
  {
   "cell_type": "code",
   "execution_count": 25,
   "id": "cc0fa0bc-57ef-4ebb-9bf2-3247f3938ef3",
   "metadata": {},
   "outputs": [],
   "source": [
    "import networkx as nx\n",
    "import numpy as np\n",
    "\n",
    "def google_matrix(G, beta=0.85, personalization=None):\n",
    "    \"\"\"\n",
    "    Parameters\n",
    "    ----------\n",
    "    G: graph\n",
    "    beta: the damping factor\n",
    "    personalization: dict, the personalization vectors of each node\n",
    "    \"\"\"\n",
    "    M = nx.to_numpy_matrix(G)\n",
    "    N = len(G)\n",
    "    M = nx.to_numpy_matrix(G)\n",
    "    M = M / M.sum(axis=1)\n",
    "    if personalization is None:\n",
    "        p = 1. / N * np.ones(shape=(N, N))\n",
    "    else:\n",
    "        p = np.array([personalization.get(n, 0) for n in G.nodes], dtype=float)\n",
    "        p /= p.sum()\n",
    "    \n",
    "    return beta * M + (1 - beta) * p\n",
    "\n",
    "def page_rank(G, beta=0.85, personalization=None):\n",
    "    M = google_matrix(G, beta, personalization)\n",
    "    eignevalues, eigenvectors = np.linalg.eig(M.T)\n",
    "    idx_max_eigval = np.argmax(eignevalues)\n",
    "    max_eigvec = np.array(eigenvectors[:,idx_max_eigval]).flatten().real\n",
    "    return list(zip(G.nodes, max_eigvec / max_eigvec.sum()))"
   ]
  },
  {
   "cell_type": "code",
   "execution_count": 26,
   "id": "5dfa35c6-8397-4211-bbeb-4d2f9b8cb176",
   "metadata": {},
   "outputs": [],
   "source": [
    "G = nx.Graph()\n",
    "customer = [\"John\", \"Mary\", \"Jill\", \"Todd\"]\n",
    "product = [\"iPhone5\", \"Kindle Fire\", \"Fitbit Flex Wireless\", \"Harry Potter\", \"Hobbit\"]\n",
    "\n",
    "G.add_nodes_from(customer + product)\n",
    "G.add_edges_from([\n",
    "    (\"John\", \"iPhone5\"),\n",
    "    (\"John\", \"Kindle Fire\"),\n",
    "    (\"Mary\", \"iPhone5\"),\n",
    "    (\"Mary\", \"Kindle Fire\"),\n",
    "    (\"Mary\", \"Fitbit Flex Wireless\"),\n",
    "    (\"Jill\", \"iPhone5\"),\n",
    "    (\"Jill\", \"Kindle Fire\"),\n",
    "    (\"Jill\", \"Fitbit Flex Wireless\"),\n",
    "    (\"Todd\", \"Fitbit Flex Wireless\"),\n",
    "    (\"Todd\", \"Harry Potter\"),\n",
    "    (\"Todd\", \"Hobbit\"),\n",
    "])"
   ]
  },
  {
   "cell_type": "code",
   "execution_count": 27,
   "id": "17797031-3a32-4c2d-9cf1-1e9907640c29",
   "metadata": {},
   "outputs": [
    {
     "data": {
      "image/png": "[encoded data removed]",
      "text/plain": [
       "<Figure size 432x288 with 1 Axes>"
      ]
     },
     "metadata": {},
     "output_type": "display_data"
    }
   ],
   "source": [
    "nx.draw(G, pos=nx.bipartite_layout(G, nodes=customer, align='horizontal'),  with_labels=True)"
   ]
  },
  {
   "cell_type": "code",
   "execution_count": 30,
   "id": "2c36384f-40bd-4e48-a34e-0c12c53a8aac",
   "metadata": {},
   "outputs": [
    {
     "data": {
      "text/plain": [
       "[('John', 0.1657758884700749),\n",
       " ('Mary', 0.12086116192795418),\n",
       " ('Jill', 0.195861161927954),\n",
       " ('Todd', 0.05804232821455758),\n",
       " ('iPhone5', 0.1601927443589557),\n",
       " ('Kindle Fire', 0.16019274435895575),\n",
       " ('Fitbit Flex Wireless', 0.10618331808663194),\n",
       " ('Harry Potter', 0.016445326327457953),\n",
       " ('Hobbit', 0.016445326327457953)]"
      ]
     },
     "execution_count": 30,
     "metadata": {},
     "output_type": "execute_result"
    }
   ],
   "source": [
    "page_rank(G, personalization = {'John': 1, 'Jill': 1})"
   ]
  },
  {
   "cell_type": "markdown",
   "id": "66e42687-515b-45a9-a5a3-4ba7a2152d81",
   "metadata": {},
   "source": [
    "## Random Walks with Restarts\n",
    "![](figures/04-pagerank_47.jpeg)\n",
    "![](figures/04-pagerank_48.jpeg)\n",
    "![](figures/04-pagerank_49.jpeg)\n",
    "![](figures/04-pagerank_50.jpeg)\n",
    "![](figures/04-pagerank_51.jpeg)\n",
    "## PageRank Variants\n",
    "![](figures/04-pagerank_52.jpeg)\n",
    "![](figures/04-pagerank_53.jpeg)"
   ]
  },
  {
   "cell_type": "code",
   "execution_count": null,
   "id": "6bb14490-5a3f-480c-a7dd-b7f57ee4a033",
   "metadata": {},
   "outputs": [],
   "source": []
  }
 ],
 "metadata": {
  "kernelspec": {
   "display_name": "Python 3",
   "language": "python",
   "name": "python3"
  },
  "language_info": {
   "codemirror_mode": {
    "name": "ipython",
    "version": 3
   },
   "file_extension": ".py",
   "mimetype": "text/x-python",
   "name": "python",
   "nbconvert_exporter": "python",
   "pygments_lexer": "ipython3",
   "version": "3.9.1"
  }
 },
 "nbformat": 4,
 "nbformat_minor": 5
}
