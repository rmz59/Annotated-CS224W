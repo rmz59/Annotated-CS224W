{
 "cells": [
  {
   "cell_type": "markdown",
   "id": "ad5292d3-944f-47b4-b93e-dede7eb28670",
   "metadata": {},
   "source": [
    "# Relational Classification and Iterative Classification\n",
    "## Relational Classifiers\n",
    "### Method\n",
    "![](figures/05-message_22.jpeg)\n",
    "![](figures/05-message_23.jpeg)\n",
    "\n",
    "### Example\n",
    "![](figures/05-message_24.jpeg)\n",
    "![](figures/05-message_25.jpeg)\n",
    "![](figures/05-message_26.jpeg)\n",
    "![](figures/05-message_27.jpeg)\n",
    "![](figures/05-message_28.jpeg)\n",
    "![](figures/05-message_29.jpeg)\n",
    "![](figures/05-message_30.jpeg)\n",
    "![](figures/05-message_31.jpeg)\n",
    "![](figures/05-message_32.jpeg)"
   ]
  },
  {
   "cell_type": "markdown",
   "id": "32cb3d43-d60d-498e-b213-e9d8857d98be",
   "metadata": {},
   "source": [
    "### Quick Implementation"
   ]
  },
  {
   "cell_type": "code",
   "execution_count": 221,
   "id": "e65cf382-e84a-40f2-85b0-8db5ebb601bc",
   "metadata": {},
   "outputs": [],
   "source": [
    "import networkx as nx\n",
    "import numpy as np\n",
    "from scipy import sparse\n",
    "\n",
    "def get_update_matrix(G):\n",
    "    X = nx.to_scipy_sparse_matrix(G)\n",
    "    degrees = X.sum(axis=0).A[0]\n",
    "    D = sparse.diags(1.0/degrees)\n",
    "    return D.dot(X)\n",
    "\n",
    "def get_labels(G):\n",
    "    labels = []\n",
    "    for node in G:\n",
    "        prob_1 = G.nodes[node].get('label', 0.5)\n",
    "        labels.append(prob_1)\n",
    "    return np.array(labels)\n",
    "\n",
    "def update(G, label_proba):\n",
    "    update_mat = _get_update_matrix(G)\n",
    "    for idx, node in enumerate(G):\n",
    "        if not 'label' in G.nodes[node]:\n",
    "            label_proba[idx] = update_mat[idx].dot(label_proba)\n",
    "    return label_proba"
   ]
  },
  {
   "cell_type": "code",
   "execution_count": 222,
   "id": "ec5a6bf2-41ac-449a-a36e-7ab5cb73805a",
   "metadata": {},
   "outputs": [],
   "source": [
    "G = nx.Graph()\n",
    "G.add_nodes_from(range(1,10))\n",
    "G.add_edges_from([ (1, 2), (1, 3), (1, 4), (2, 3), (3, 4),\n",
    "                   (4, 5), (4, 6), (5, 6), (5, 7), (5, 8),\n",
    "                   (6, 7), (6, 8), (7, 8), (7, 9)\n",
    "                 ])\n",
    "G.nodes[1]['label'] = 0\n",
    "G.nodes[2]['label'] = 0\n",
    "G.nodes[6]['label'] = 1\n",
    "G.nodes[7]['label'] = 1"
   ]
  },
  {
   "cell_type": "code",
   "execution_count": 223,
   "id": "02b82b27-72eb-4d35-90d0-3f950238e98a",
   "metadata": {},
   "outputs": [
    {
     "data": {
      "image/png": "[encoded data removed]",
      "text/plain": [
       "<Figure size 432x288 with 1 Axes>"
      ]
     },
     "metadata": {},
     "output_type": "display_data"
    }
   ],
   "source": [
    "label_proba = get_labels(G)\n",
    "update_mat = get_update_matrix(G)\n",
    "\n",
    "for _ in range(4):\n",
    "    label_proba = update(G, label_proba)\n",
    "    \n",
    "nx.draw(G, node_color=(label_proba>0.5), with_labels=True, cmap='Set3')"
   ]
  },
  {
   "cell_type": "markdown",
   "id": "67b0c22c-70a8-4554-988b-c5d2128d80cf",
   "metadata": {},
   "source": [
    "## Iteractvie Classification\n",
    "### Method\n",
    "![](figures/05-message_34.jpeg)\n",
    "![](figures/05-message_35.jpeg)\n",
    "![](figures/05-message_36.jpeg)\n",
    "![](figures/05-message_37.jpeg)\n",
    "\n",
    "### Example\n",
    "![](figures/05-message_38.jpeg)\n",
    "![](figures/05-message_39.jpeg)\n",
    "![](figures/05-message_40.jpeg)\n",
    "![](figures/05-message_41.jpeg)\n",
    "![](figures/05-message_42.jpeg)\n",
    "![](figures/05-message_43.jpeg)\n",
    "![](figures/05-message_44.jpeg)\n",
    "![](figures/05-message_45.jpeg)\n",
    "![](figures/05-message_46.jpeg)\n",
    "![](figures/05-message_47.jpeg)\n",
    "\n",
    "## Summary\n",
    "![](figures/05-message_48.jpeg)"
   ]
  }
 ],
 "metadata": {
  "kernelspec": {
   "display_name": "Python 3",
   "language": "python",
   "name": "python3"
  },
  "language_info": {
   "codemirror_mode": {
    "name": "ipython",
    "version": 3
   },
   "file_extension": ".py",
   "mimetype": "text/x-python",
   "name": "python",
   "nbconvert_exporter": "python",
   "pygments_lexer": "ipython3",
   "version": "3.9.1"
  }
 },
 "nbformat": 4,
 "nbformat_minor": 5
}
