{
 "cells": [
  {
   "cell_type": "markdown",
   "id": "d199a6cf-6a97-4eef-89f2-06e1cc33c2b9",
   "metadata": {},
   "source": [
    "# Message Passing and Node Classification\n",
    "## Outline\n",
    "![](figures/05-message_3.jpeg)\n",
    "![](figures/05-message_4.jpeg)"
   ]
  },
  {
   "cell_type": "markdown",
   "id": "60e5e3d8-dd7d-4a7d-a5b0-ee2c934cee99",
   "metadata": {},
   "source": [
    "## Correlations, Homophily, Influence\n",
    "![](figures/05-message_4.jpeg)\n",
    "![](figures/05-message_5.jpeg)\n",
    "![](figures/05-message_6.jpeg)\n",
    "![](figures/05-message_7.jpeg)\n",
    "![](figures/05-message_8.jpeg)\n",
    "![](figures/05-message_9.jpeg)"
   ]
  },
  {
   "cell_type": "markdown",
   "id": "2e35b78b-83e3-40a4-a237-b195637006a7",
   "metadata": {},
   "source": [
    "## Classification with Network Data\n",
    "### Motivation\n",
    "![](figures/05-message_10.jpeg)\n",
    "![](figures/05-message_11.jpeg)\n",
    "![](figures/05-message_12.jpeg)\n",
    "### Semi-supervised Learning\n",
    "![](figures/05-message_13.jpeg)\n",
    "![](figures/05-message_14.jpeg)\n",
    "![](figures/05-message_15.jpeg)\n",
    "![](figures/05-message_16.jpeg)\n",
    "![](figures/05-message_17.jpeg)\n",
    "![](figures/05-message_18.jpeg)\n",
    "![](figures/05-message_19.jpeg)"
   ]
  },
  {
   "cell_type": "code",
   "execution_count": null,
   "id": "a1e5228c-853a-40ee-823f-0bc65aee67d0",
   "metadata": {},
   "outputs": [],
   "source": []
  }
 ],
 "metadata": {
  "kernelspec": {
   "display_name": "Python 3",
   "language": "python",
   "name": "python3"
  },
  "language_info": {
   "codemirror_mode": {
    "name": "ipython",
    "version": 3
   },
   "file_extension": ".py",
   "mimetype": "text/x-python",
   "name": "python",
   "nbconvert_exporter": "python",
   "pygments_lexer": "ipython3",
   "version": "3.9.1"
  }
 },
 "nbformat": 4,
 "nbformat_minor": 5
}
