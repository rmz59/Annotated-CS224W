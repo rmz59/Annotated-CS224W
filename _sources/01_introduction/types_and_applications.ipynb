{
 "cells": [
  {
   "cell_type": "markdown",
   "id": "81c608e7-ac78-44a4-800a-4712c6565b97",
   "metadata": {},
   "source": [
    "# Graphs: Machine Learning"
   ]
  },
  {
   "cell_type": "markdown",
   "id": "be2ce9b6-68d8-4747-b2ce-ad849e9b4f92",
   "metadata": {},
   "source": [
    "## Types of Networks and Graphs"
   ]
  },
  {
   "cell_type": "markdown",
   "id": "f38ff75f-36d8-484c-8821-8fff6ce03733",
   "metadata": {},
   "source": [
    "Graphs are a general language for describing and analyzing entities with relations/interactions. Many practical problems are natural graphs, or they can be represented as graphs. By analyzing and modeling the relations within graphs, one can obtain better performance.\n",
    "\n",
    "![](figures/01-intro_22.jpeg)\n",
    "![](figures/01-intro_23.jpeg)\n",
    "![](figures/01-intro_25.jpeg)"
   ]
  },
  {
   "cell_type": "markdown",
   "id": "e82e68f2-1804-4598-adb0-4004c59f3a24",
   "metadata": {},
   "source": [
    "## Application of Graphs"
   ]
  },
  {
   "cell_type": "markdown",
   "id": "37f6b27a-7859-41fb-b9a8-e527e071db00",
   "metadata": {},
   "source": [
    "![](figures/01-intro_36.jpeg)"
   ]
  },
  {
   "cell_type": "code",
   "execution_count": null,
   "id": "de1b4bc1-b03f-4cbb-877f-1ef0a189c6e8",
   "metadata": {},
   "outputs": [],
   "source": []
  }
 ],
 "metadata": {
  "kernelspec": {
   "display_name": "Python 3",
   "language": "python",
   "name": "python3"
  },
  "language_info": {
   "codemirror_mode": {
    "name": "ipython",
    "version": 3
   },
   "file_extension": ".py",
   "mimetype": "text/x-python",
   "name": "python",
   "nbconvert_exporter": "python",
   "pygments_lexer": "ipython3",
   "version": "3.9.1"
  }
 },
 "nbformat": 4,
 "nbformat_minor": 5
}
