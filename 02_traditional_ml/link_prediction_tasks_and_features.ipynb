{
 "cells": [
  {
   "cell_type": "markdown",
   "metadata": {},
   "source": [
    "# Link Prediction Task and Features\n",
    "[Course Video](https://youtu.be/4dVwlE9jYxY?list=PLoROMvodv4rPLKxIpqhjhPgdQy7imNkDn)"
   ]
  },
  {
   "cell_type": "markdown",
   "metadata": {},
   "source": [
    "## Link-level Prediction Tasks\n",
    "![](figures/02-tradition-ml_28.jpeg)\n",
    "![](figures/02-tradition-ml_29.jpeg)\n",
    "![](figures/02-tradition-ml_30.jpeg)"
   ]
  },
  {
   "cell_type": "markdown",
   "metadata": {},
   "source": [
    "## Link-level Features\n",
    "### Overview\n",
    "![](figures/02-tradition-ml_31.jpeg)"
   ]
  },
  {
   "cell_type": "markdown",
   "metadata": {},
   "source": [
    "### Distance-Based Features\n",
    "![](figures/02-tradition-ml_32.jpeg)"
   ]
  },
  {
   "cell_type": "code",
   "execution_count": 5,
   "metadata": {},
   "outputs": [
    {
     "data": {
      "image/png": "[encoded data removed]",
      "text/plain": [
       "<Figure size 432x288 with 1 Axes>"
      ]
     },
     "metadata": {},
     "output_type": "display_data"
    }
   ],
   "source": [
    "import networkx as nx\n",
    "\n",
    "G = nx.Graph()\n",
    "G.add_nodes_from([\"a\",\"b\",\"c\",\"d\",\"e\",\"f\",\"g\",\"h\"])\n",
    "G.add_edges_from([(\"a\", \"c\"),\n",
    "                  (\"b\", \"c\"),\n",
    "                  (\"b\", \"d\"),\n",
    "                  (\"c\", \"d\"),\n",
    "                  (\"d\", \"e\"),\n",
    "                  (\"d\", \"h\"),\n",
    "                  (\"e\", \"f\"),\n",
    "                  (\"e\", \"g\"),\n",
    "                 ])\n",
    "nx.draw(G, with_labels=True, node_color=\"r\")"
   ]
  },
  {
   "cell_type": "code",
   "execution_count": 13,
   "metadata": {},
   "outputs": [
    {
     "name": "stdout",
     "output_type": "stream",
     "text": [
      "S_bh = 2\n",
      "S_be = 2\n",
      "S_ab = 2\n",
      "S_bg = 3\n",
      "S_bf = 3\n"
     ]
    }
   ],
   "source": [
    "node_pairs = [('b','h'), ('b','e'), ('a','b'), ('b','g'), ('b','f')]\n",
    "for s, t in node_pairs:\n",
    "    print(f\"S_{s}{t} = {nx.shortest_path_length(G, s, t)}\")"
   ]
  },
  {
   "cell_type": "markdown",
   "metadata": {},
   "source": [
    "### Local Neighborhood Overlap\n",
    "![](figures/02-tradition-ml_33.jpeg)"
   ]
  },
  {
   "cell_type": "code",
   "execution_count": 16,
   "metadata": {},
   "outputs": [
    {
     "data": {
      "image/png": "[encoded data removed]",
      "text/plain": [
       "<Figure size 432x288 with 1 Axes>"
      ]
     },
     "metadata": {},
     "output_type": "display_data"
    }
   ],
   "source": [
    "import networkx as nx\n",
    "G = nx.Graph()\n",
    "G.add_nodes_from([\"a\",\"b\",\"c\",\"d\",\"e\",\"f\"])\n",
    "G.add_edges_from([(\"a\", \"c\"),\n",
    "                  (\"b\", \"c\"),\n",
    "                  (\"b\", \"d\"),\n",
    "                  (\"c\", \"d\"),\n",
    "                  (\"c\", \"f\"),\n",
    "                  (\"d\", \"e\"),\n",
    "                  (\"d\", \"f\"),\n",
    "                 ])\n",
    "nx.draw(G, with_labels=True, node_color=\"r\")"
   ]
  },
  {
   "cell_type": "code",
   "execution_count": 30,
   "metadata": {},
   "outputs": [
    {
     "name": "stdout",
     "output_type": "stream",
     "text": [
      "common neighbors of `a` and `b`: ['c']\n",
      "jaccard coefficients: [('a', 'b', 0.5)]\n"
     ]
    }
   ],
   "source": [
    "print(f\"common neighbors of `a` and `b`: {list(nx.common_neighbors(G, 'a', 'b'))}\")\n",
    "print(f\"jaccard coefficients: {list(nx.jaccard_coefficient(G, ebunch=[['a', 'b']]))}\")"
   ]
  },
  {
   "cell_type": "markdown",
   "metadata": {},
   "source": [
    "The Adamic-Adar index of `v_1` and `v_2` is defined as \n",
    "$$\n",
    "    \\sum_{u\\in N(v_1)\\cap N(v_2)}\\frac{1}{log(k_u)}\n",
    "$$\n",
    "where $k_u$ represents the number of neighbors of `u`\n",
    "\n",
    "For two nodes that are only connected via self-loops"
   ]
  },
  {
   "cell_type": "code",
   "execution_count": 34,
   "metadata": {},
   "outputs": [
    {
     "name": "stdout",
     "output_type": "stream",
     "text": [
      "Adamic-Adar index [('a', 'b', 0.7213475204444817)])\n"
     ]
    }
   ],
   "source": [
    "print(f\"Adamic-Adar index {list(nx.adamic_adar_index(G, [['a','b']]))})\")"
   ]
  },
  {
   "cell_type": "markdown",
   "metadata": {},
   "source": [
    "### Global Neighborhood Overlap\n",
    "#### Limitation of local features\n",
    "![](figures/02-tradition-ml_34.jpeg)\n",
    "#### Katz index\n",
    "We can use the graph adjacencey matrix to compute the number of paths between two nodes.\n",
    "![](figures/02-tradition-ml_35.jpeg)\n",
    "![](figures/02-tradition-ml_36.jpeg)"
   ]
  },
  {
   "cell_type": "code",
   "execution_count": 2,
   "metadata": {},
   "outputs": [
    {
     "data": {
      "text/plain": [
       "array([[0, 1, 0, 1],\n",
       "       [1, 0, 0, 1],\n",
       "       [0, 0, 0, 1],\n",
       "       [1, 1, 1, 0]])"
      ]
     },
     "execution_count": 2,
     "metadata": {},
     "output_type": "execute_result"
    }
   ],
   "source": [
    "G = nx.Graph()\n",
    "G.add_nodes_from([1,2,3,4])\n",
    "G.add_edges_from([(1,2),\n",
    "                  (1,4),\n",
    "                  (2,4),\n",
    "                  (3,4),\n",
    "                 ])\n",
    "nx.adj_matrix(G).toarray()"
   ]
  },
  {
   "cell_type": "markdown",
   "metadata": {},
   "source": [
    "![](figures/02-tradition-ml_37.jpeg)\n",
    "![](figures/02-tradition-ml_38.jpeg)\n",
    "![](figures/02-tradition-ml_39.jpeg)"
   ]
  },
  {
   "cell_type": "code",
   "execution_count": 12,
   "metadata": {},
   "outputs": [
    {
     "name": "stdout",
     "output_type": "stream",
     "text": [
      "[[0.02285774 0.11376683 0.01148106 0.11481056]\n",
      " [0.11376683 0.02285774 0.01148106 0.11481056]\n",
      " [0.01148106 0.01148106 0.01033295 0.10332951]\n",
      " [0.11481056 0.11481056 0.10332951 0.03329506]]\n"
     ]
    }
   ],
   "source": [
    "A = nx.adj_matrix(G).todense()\n",
    "beta = 0.1\n",
    "n = A.shape[0]\n",
    "S = np.linalg.inv(np.eye(n,n) - beta*A) - np.eye(n,n)\n",
    "print(S)"
   ]
  },
  {
   "cell_type": "markdown",
   "metadata": {},
   "source": [
    "## Summary\n",
    "![](figures/02-tradition-ml_40.jpeg)"
   ]
  },
  {
   "cell_type": "code",
   "execution_count": null,
   "metadata": {},
   "outputs": [],
   "source": []
  }
 ],
 "metadata": {
  "kernelspec": {
   "display_name": "Python 3",
   "language": "python",
   "name": "python3"
  },
  "language_info": {
   "codemirror_mode": {
    "name": "ipython",
    "version": 3
   },
   "file_extension": ".py",
   "mimetype": "text/x-python",
   "name": "python",
   "nbconvert_exporter": "python",
   "pygments_lexer": "ipython3",
   "version": "3.9.1"
  }
 },
 "nbformat": 4,
 "nbformat_minor": 4
}
