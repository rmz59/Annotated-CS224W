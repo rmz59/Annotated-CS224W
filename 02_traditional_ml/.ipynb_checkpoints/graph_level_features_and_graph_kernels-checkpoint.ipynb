{
 "cells": [
  {
   "cell_type": "markdown",
   "metadata": {},
   "source": [
    "# Graph-Level Features and Graph Kernels"
   ]
  },
  {
   "cell_type": "markdown",
   "metadata": {},
   "source": [
    "## Graph-Level Features\n",
    "![](figures/02-tradition-ml_42.jpeg)\n",
    "![](figures/02-tradition-ml_43.jpeg)"
   ]
  },
  {
   "cell_type": "markdown",
   "metadata": {},
   "source": [
    "## Graph Kernels\n",
    "![](figures/02-tradition-ml_44.jpeg)\n",
    "![](figures/02-tradition-ml_45.jpeg)\n",
    "![](figures/02-tradition-ml_46.jpeg)"
   ]
  },
  {
   "cell_type": "markdown",
   "metadata": {},
   "source": [
    "###  Graphlet Kernel\n",
    "![](figures/02-tradition-ml_47.jpeg)\n",
    "![](figures/02-tradition-ml_48.jpeg)\n",
    "![](figures/02-tradition-ml_49.jpeg)\n",
    "![](figures/02-tradition-ml_50.jpeg)\n",
    "![](figures/02-tradition-ml_51.jpeg)\n",
    "![](figures/02-tradition-ml_52.jpeg)"
   ]
  },
  {
   "cell_type": "markdown",
   "metadata": {},
   "source": [
    "### Weisfeiler-Lehman Kernel"
   ]
  },
  {
   "cell_type": "markdown",
   "metadata": {},
   "source": [
    "![](figures/02-tradition-ml_53.jpeg)\n",
    "![](figures/02-tradition-ml_54.jpeg)\n",
    "![](figures/02-tradition-ml_55.jpeg)\n",
    "![](figures/02-tradition-ml_56.jpeg)\n",
    "![](figures/02-tradition-ml_57.jpeg)\n",
    "![](figures/02-tradition-ml_58.jpeg)\n",
    "![](figures/02-tradition-ml_59.jpeg)\n",
    "![](figures/02-tradition-ml_60.jpeg)\n",
    "![](figures/02-tradition-ml_61.jpeg)"
   ]
  },
  {
   "cell_type": "code",
   "execution_count": 4,
   "metadata": {},
   "outputs": [
    {
     "data": {
      "image/png": "[encoded data removed]",
      "text/plain": [
       "<Figure size 720x360 with 2 Axes>"
      ]
     },
     "metadata": {},
     "output_type": "display_data"
    }
   ],
   "source": [
    "import networkx as nx\n",
    "import matplotlib.pyplot as plt\n",
    "\n",
    "G_1 = nx.Graph()\n",
    "G_1.add_nodes_from([1,2,3,4,5,6])\n",
    "G_1.add_edges_from([(1,2),\n",
    "                    (1,3),\n",
    "                    (1,4),\n",
    "                    (2,3),\n",
    "                    (3,4),\n",
    "                    (4,5),\n",
    "                    (4,6)\n",
    "                   ])\n",
    "G_2 = nx.Graph()\n",
    "G_2.add_nodes_from([1,2,3,4,5,6])\n",
    "G_2.add_edges_from([(1,2),\n",
    "                    (1,4),\n",
    "                    (1,6),\n",
    "                    (2,3),\n",
    "                    (2,4),\n",
    "                    (3,4),\n",
    "                    (4,5)\n",
    "                   ])\n",
    "\n",
    "fig, ax = plt.subplots(1, 2, figsize=(10,5))\n",
    "nx.draw(G_1, with_labels=True, node_color=\"r\", ax=ax[0])\n",
    "nx.draw(G_2, with_labels=True, node_color=\"r\", ax=ax[1])"
   ]
  },
  {
   "cell_type": "code",
   "execution_count": 48,
   "metadata": {},
   "outputs": [],
   "source": [
    "# modified from https://networkx.org/documentation/stable/_modules/networkx/algorithms/graph_hashing.html#weisfeiler_lehman_graph_hash\n",
    "from collections import Counter\n",
    "from hashlib import blake2b\n",
    "\n",
    "def weisfeiler_lehman_graph_hash(G, iterations=2):\n",
    "    def neighborhood_aggregate(G, node, node_labels):\n",
    "        \"\"\"\n",
    "        Compute new labels for given node by aggregating\n",
    "        the labels of each node's neighbors.\n",
    "        \"\"\"\n",
    "        label_list = [node_labels[node]]\n",
    "        for nei in G.neighbors(node):\n",
    "            label_list.append(node_labels[nei])\n",
    "        return \"\".join(sorted(label_list))\n",
    "\n",
    "    def weisfeiler_lehman_step(G, labels):\n",
    "        \"\"\"\n",
    "        Apply neighborhood aggregation to each node\n",
    "        in the graph.\n",
    "        Computes a dictionary with labels for each node.\n",
    "        \"\"\"\n",
    "        new_labels = dict()\n",
    "        for node in G.nodes():\n",
    "            new_labels[node] = neighborhood_aggregate(\n",
    "                G, node, labels\n",
    "            )\n",
    "        return new_labels\n",
    "    items = []\n",
    "        \n",
    "    node_labels = dict()\n",
    "    # set initial node labels as \"1\"\n",
    "    for node in G.nodes():\n",
    "        node_labels[node] = \"1\"\n",
    "        \n",
    "    counter = Counter()\n",
    "    counter.update(node_labels.values())\n",
    "    items.extend(sorted(counter.items(), key=lambda x: x[0]))\n",
    "\n",
    "    for k in range(iterations):\n",
    "        node_labels = weisfeiler_lehman_step(G, node_labels)\n",
    "        counter = Counter()\n",
    "        # count node labels\n",
    "        for node, d in node_labels.items():\n",
    "            h = blake2b(digest_size=8)\n",
    "            h.update(d.encode(\"ascii\"))\n",
    "            counter.update([h.hexdigest()])\n",
    "        # sort the counter, extend total counts\n",
    "        items.extend(counter.items())\n",
    "    return items"
   ]
  },
  {
   "cell_type": "code",
   "execution_count": 68,
   "metadata": {},
   "outputs": [
    {
     "data": {
      "text/html": [
       "<div>\n",
       "<style scoped>\n",
       "    .dataframe tbody tr th:only-of-type {\n",
       "        vertical-align: middle;\n",
       "    }\n",
       "\n",
       "    .dataframe tbody tr th {\n",
       "        vertical-align: top;\n",
       "    }\n",
       "\n",
       "    .dataframe thead th {\n",
       "        text-align: right;\n",
       "    }\n",
       "</style>\n",
       "<table border=\"1\" class=\"dataframe\">\n",
       "  <thead>\n",
       "    <tr style=\"text-align: right;\">\n",
       "      <th></th>\n",
       "      <th>count_1</th>\n",
       "      <th>count_2</th>\n",
       "    </tr>\n",
       "  </thead>\n",
       "  <tbody>\n",
       "    <tr>\n",
       "      <th>1</th>\n",
       "      <td>6.0</td>\n",
       "      <td>6.0</td>\n",
       "    </tr>\n",
       "    <tr>\n",
       "      <th>ae7014f201e7b2a8</th>\n",
       "      <td>2.0</td>\n",
       "      <td>2.0</td>\n",
       "    </tr>\n",
       "    <tr>\n",
       "      <th>f4ba2bd4d02599c9</th>\n",
       "      <td>1.0</td>\n",
       "      <td>1.0</td>\n",
       "    </tr>\n",
       "    <tr>\n",
       "      <th>319963570400ab70</th>\n",
       "      <td>1.0</td>\n",
       "      <td>1.0</td>\n",
       "    </tr>\n",
       "    <tr>\n",
       "      <th>d9614b235de46ab6</th>\n",
       "      <td>2.0</td>\n",
       "      <td>2.0</td>\n",
       "    </tr>\n",
       "    <tr>\n",
       "      <th>a375337db7603b40</th>\n",
       "      <td>2.0</td>\n",
       "      <td>1.0</td>\n",
       "    </tr>\n",
       "    <tr>\n",
       "      <th>6bfd2e2c856f60f0</th>\n",
       "      <td>1.0</td>\n",
       "      <td>0.0</td>\n",
       "    </tr>\n",
       "    <tr>\n",
       "      <th>c8b89dc56032babf</th>\n",
       "      <td>1.0</td>\n",
       "      <td>0.0</td>\n",
       "    </tr>\n",
       "    <tr>\n",
       "      <th>f137e6c24929a1ba</th>\n",
       "      <td>2.0</td>\n",
       "      <td>1.0</td>\n",
       "    </tr>\n",
       "    <tr>\n",
       "      <th>df2a901b2ec10270</th>\n",
       "      <td>0.0</td>\n",
       "      <td>1.0</td>\n",
       "    </tr>\n",
       "    <tr>\n",
       "      <th>91fb615892fe96be</th>\n",
       "      <td>0.0</td>\n",
       "      <td>1.0</td>\n",
       "    </tr>\n",
       "    <tr>\n",
       "      <th>041887d5215c7af1</th>\n",
       "      <td>0.0</td>\n",
       "      <td>1.0</td>\n",
       "    </tr>\n",
       "    <tr>\n",
       "      <th>694582fa24286ff4</th>\n",
       "      <td>0.0</td>\n",
       "      <td>1.0</td>\n",
       "    </tr>\n",
       "  </tbody>\n",
       "</table>\n",
       "</div>"
      ],
      "text/plain": [
       "                  count_1  count_2\n",
       "1                     6.0      6.0\n",
       "ae7014f201e7b2a8      2.0      2.0\n",
       "f4ba2bd4d02599c9      1.0      1.0\n",
       "319963570400ab70      1.0      1.0\n",
       "d9614b235de46ab6      2.0      2.0\n",
       "a375337db7603b40      2.0      1.0\n",
       "6bfd2e2c856f60f0      1.0      0.0\n",
       "c8b89dc56032babf      1.0      0.0\n",
       "f137e6c24929a1ba      2.0      1.0\n",
       "df2a901b2ec10270      0.0      1.0\n",
       "91fb615892fe96be      0.0      1.0\n",
       "041887d5215c7af1      0.0      1.0\n",
       "694582fa24286ff4      0.0      1.0"
      ]
     },
     "execution_count": 68,
     "metadata": {},
     "output_type": "execute_result"
    }
   ],
   "source": [
    "import pandas as pd\n",
    "\n",
    "color_1 = {color:cnt for color,cnt in weisfeiler_lehman_graph_hash(G_1, iterations=2)}\n",
    "color_2 = {color:cnt for color,cnt in weisfeiler_lehman_graph_hash(G_2, iterations=2)}\n",
    "colors = pd.concat(\n",
    "    [pd.DataFrame.from_dict(color_1, orient='index', columns=['count_1']),\n",
    "     pd.DataFrame.from_dict(color_2, orient='index', columns=['count_2'])],\n",
    "    axis='columns'\n",
    "    ).fillna(0)\n",
    "colors"
   ]
  },
  {
   "cell_type": "markdown",
   "metadata": {},
   "source": [
    "## Summary"
   ]
  },
  {
   "cell_type": "markdown",
   "metadata": {},
   "source": [
    "![](figures/02-tradition-ml_62.jpeg)"
   ]
  }
 ],
 "metadata": {
  "kernelspec": {
   "display_name": "Python 3",
   "language": "python",
   "name": "python3"
  },
  "language_info": {
   "codemirror_mode": {
    "name": "ipython",
    "version": 3
   },
   "file_extension": ".py",
   "mimetype": "text/x-python",
   "name": "python",
   "nbconvert_exporter": "python",
   "pygments_lexer": "ipython3",
   "version": "3.7.7"
  }
 },
 "nbformat": 4,
 "nbformat_minor": 4
}
