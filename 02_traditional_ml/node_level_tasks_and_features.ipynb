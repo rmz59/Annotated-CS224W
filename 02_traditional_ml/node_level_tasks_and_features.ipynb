{
 "cells": [
  {
   "cell_type": "markdown",
   "metadata": {},
   "source": [
    "# Node-level Tasks and Features"
   ]
  },
  {
   "cell_type": "markdown",
   "metadata": {},
   "source": [
    "## Node-level Tasks\n",
    "### Overview\n",
    "![Node-level Tasks](figures/02-tradition-ml_9.jpeg)\n",
    "![Node-level Tasks](figures/02-tradition-ml_10.jpeg)"
   ]
  },
  {
   "cell_type": "code",
   "execution_count": 2,
   "metadata": {},
   "outputs": [
    {
     "data": {
      "image/png": "[encoded data removed]",
      "text/plain": [
       "<Figure size 432x288 with 1 Axes>"
      ]
     },
     "metadata": {},
     "output_type": "display_data"
    }
   ],
   "source": [
    "import string\n",
    "import networkx as nx\n",
    "\n",
    "alphabet = string.ascii_lowercase\n",
    "G = nx.Graph()\n",
    "G.add_nodes_from([l for l in alphabet[:8]])\n",
    "G.add_edges_from([(\"a\", \"c\"),\n",
    "                  (\"b\", \"c\"),\n",
    "                  (\"b\", \"d\"),\n",
    "                  (\"c\", \"d\"),\n",
    "                  (\"d\", \"e\"),\n",
    "                  (\"d\", \"h\"),\n",
    "                  (\"e\", \"f\"),\n",
    "                  (\"e\", \"g\"),\n",
    "                 ])\n",
    "nx.draw(G, with_labels=True, node_color=\"r\")"
   ]
  },
  {
   "cell_type": "markdown",
   "metadata": {},
   "source": [
    "## Node-level Features\n",
    "### Node Degree\n",
    "![Node-level Tasks](figures/02-tradition-ml_11.jpeg)"
   ]
  },
  {
   "cell_type": "code",
   "execution_count": 21,
   "metadata": {},
   "outputs": [
    {
     "name": "stdout",
     "output_type": "stream",
     "text": [
      "node_degree['a'] = 1\n",
      "node_degree['b'] = 2\n",
      "node_degree['c'] = 3\n",
      "node_degree['d'] = 3\n"
     ]
    }
   ],
   "source": [
    "for label in alphabet[:4]:\n",
    "    print(f\"node_degree['{label}'] = {G.degree[label]}\")"
   ]
  },
  {
   "cell_type": "markdown",
   "metadata": {},
   "source": [
    "### Node Centrality\n",
    "![11](figures/02-tradition-ml_12.jpeg)"
   ]
  },
  {
   "cell_type": "markdown",
   "metadata": {},
   "source": [
    "#### Eigenvector centrality\n",
    "![12](figures/02-tradition-ml_13.jpeg)\n",
    "![13](figures/02-tradition-ml_14.jpeg)"
   ]
  },
  {
   "cell_type": "code",
   "execution_count": 16,
   "metadata": {},
   "outputs": [
    {
     "data": {
      "text/plain": [
       "{'a': 0.19027974474368758,\n",
       " 'b': 0.42424443757468244,\n",
       " 'c': 0.4783911577530804,\n",
       " 'd': 0.5882192744400797,\n",
       " 'e': 0.34226351227678276,\n",
       " 'f': 0.13613682815559253,\n",
       " 'g': 0.13613682815559253,\n",
       " 'h': 0.23396469283099508}"
      ]
     },
     "execution_count": 16,
     "metadata": {},
     "output_type": "execute_result"
    }
   ],
   "source": [
    "nx.eigenvector_centrality(G)"
   ]
  },
  {
   "cell_type": "markdown",
   "metadata": {},
   "source": [
    "#### Betweeness Centrality\n",
    "![14](figures/02-tradition-ml_15.jpeg)"
   ]
  },
  {
   "cell_type": "code",
   "execution_count": 20,
   "metadata": {},
   "outputs": [
    {
     "name": "stdout",
     "output_type": "stream",
     "text": [
      "{'a': 0.0, 'b': 0.0, 'c': 3.0, 'd': 3.0, 'e': 0.0}\n"
     ]
    }
   ],
   "source": [
    "G = nx.Graph()\n",
    "G.add_nodes_from([\"a\", \"b\", \"c\", \"d\", \"e\"])\n",
    "G.add_edges_from([(\"a\", \"c\"),\n",
    "                  (\"b\", \"c\"),\n",
    "                  (\"b\", \"d\"),\n",
    "                  (\"c\", \"d\"),\n",
    "                  (\"d\", \"e\"),\n",
    "                 ])\n",
    "print(nx.betweenness_centrality(G, normalized=False))"
   ]
  },
  {
   "cell_type": "markdown",
   "metadata": {},
   "source": [
    "#### Closeness Centrality\n",
    "![14](figures/02-tradition-ml_16.jpeg)\n",
    "\n",
    "`NetworkX` uses a normalized version of `closeness centrality`. For a node $u$ with $n-1$ reachable nodes, the closeness centrality is defined as\n",
    "$$\n",
    " C(u) = \\frac{n-1}{\\sum_{v=1}^{n-1}d(v,u)}\n",
    "$$\n",
    "where $d(v,u)$ is the shortest path between $v$ and $u$.\n",
    "\n",
    "For Node `a`, it has 4 reachable nodes, and the corresponding closeness centrality is"
   ]
  },
  {
   "cell_type": "code",
   "execution_count": 23,
   "metadata": {},
   "outputs": [
    {
     "data": {
      "text/plain": [
       "0.5"
      ]
     },
     "execution_count": 23,
     "metadata": {},
     "output_type": "execute_result"
    }
   ],
   "source": [
    "nx.closeness_centrality(G, u='a', wf_improved=False)"
   ]
  },
  {
   "cell_type": "markdown",
   "metadata": {},
   "source": [
    "### Clustering Coefficient\n",
    "![14](figures/02-tradition-ml_17.jpeg)"
   ]
  },
  {
   "cell_type": "code",
   "execution_count": 4,
   "metadata": {},
   "outputs": [],
   "source": [
    "G_1 = nx.Graph()\n",
    "G_1.add_nodes_from([\"1\", \"2\", \"3\", \"4\", \"v\"])\n",
    "G_1.add_edges_from([(\"1\", \"2\"),\n",
    "                  (\"1\", \"3\"),\n",
    "                  (\"1\", \"4\"),\n",
    "                  (\"2\", \"3\"),\n",
    "                  (\"2\", \"4\"),\n",
    "                  (\"3\", \"4\"),\n",
    "                  (\"1\", \"v\"),\n",
    "                  (\"2\", \"v\"),\n",
    "                  (\"3\", \"v\"),\n",
    "                  (\"4\", \"v\")\n",
    "                 ])\n",
    "\n",
    "G_2 = nx.Graph()\n",
    "G_2.add_nodes_from([\"1\", \"2\", \"3\", \"4\", \"v\"])\n",
    "G_2.add_edges_from([(\"1\", \"2\"),\n",
    "                  (\"2\", \"3\"),\n",
    "                  (\"3\", \"4\"),\n",
    "                  (\"1\", \"v\"),\n",
    "                  (\"2\", \"v\"),\n",
    "                  (\"3\", \"v\"),\n",
    "                  (\"4\", \"v\")\n",
    "                 ])\n",
    "\n",
    "G_3 = nx.Graph()\n",
    "G_3.add_nodes_from([\"1\", \"2\", \"3\", \"4\", \"v\"])\n",
    "G_3.add_edges_from([\n",
    "                  (\"1\", \"v\"),\n",
    "                  (\"2\", \"v\"),\n",
    "                  (\"3\", \"v\"),\n",
    "                  (\"4\", \"v\")\n",
    "                 ])"
   ]
  },
  {
   "cell_type": "code",
   "execution_count": 19,
   "metadata": {},
   "outputs": [
    {
     "data": {
      "image/png": "[encoded data removed]",
      "text/plain": [
       "<Figure size 1080x360 with 3 Axes>"
      ]
     },
     "metadata": {},
     "output_type": "display_data"
    }
   ],
   "source": [
    "import matplotlib.pyplot as plt\n",
    "fig, ax = plt.subplots(1,3, figsize=(15,5))\n",
    "nx.draw(G_1, ax=ax[0], with_labels=True, node_color=\"r\")\n",
    "nx.draw(G_2, ax=ax[1], with_labels=True, node_color=\"r\")\n",
    "nx.draw(G_3, ax=ax[2], with_labels=True, node_color=\"r\")\n",
    "plt.show()"
   ]
  },
  {
   "cell_type": "code",
   "execution_count": 23,
   "metadata": {},
   "outputs": [
    {
     "name": "stdout",
     "output_type": "stream",
     "text": [
      "Fig_0 - clustering coeffecient of $v$ = 1.0\n",
      "Fig_1 - clustering coeffecient of $v$ = 0.5\n",
      "Fig_2 - clustering coeffecient of $v$ = 0\n"
     ]
    }
   ],
   "source": [
    "for idx, g in enumerate([G_1, G_2, G_3]):\n",
    "    print(f\"Fig_{idx} - clustering coeffecient of $v$ = {nx.clustering(g, nodes=['v'])['v']}\")"
   ]
  },
  {
   "cell_type": "markdown",
   "metadata": {},
   "source": [
    "### Graphlets\n",
    "![14](figures/02-tradition-ml_18.jpeg)\n",
    "\n",
    "`NetworkX` can also count the number of `triangles`: "
   ]
  },
  {
   "cell_type": "code",
   "execution_count": 26,
   "metadata": {},
   "outputs": [
    {
     "name": "stdout",
     "output_type": "stream",
     "text": [
      "# of triangles with `v` as a vertex = 3\n"
     ]
    }
   ],
   "source": [
    "G = nx.Graph()\n",
    "G.add_nodes_from([\"1\", \"2\", \"3\", \"4\", \"v\"])\n",
    "G.add_edges_from([(\"1\", \"2\"),\n",
    "                  (\"2\", \"3\"),\n",
    "                  (\"3\", \"4\"),\n",
    "                  (\"1\", \"v\"),\n",
    "                  (\"2\", \"v\"),\n",
    "                  (\"3\", \"v\"),\n",
    "                  (\"4\", \"v\")\n",
    "                 ])\n",
    "print(f\"# of triangles with `v` as a vertex = {nx.triangles(G, nodes=['v'])['v']}\")"
   ]
  },
  {
   "cell_type": "markdown",
   "metadata": {},
   "source": [
    "![](figures/02-tradition-ml_19.jpeg)\n",
    "![](figures/02-tradition-ml_20.jpeg)\n",
    "![](figures/02-tradition-ml_21.jpeg)"
   ]
  },
  {
   "cell_type": "markdown",
   "metadata": {},
   "source": [
    "There is no API in `NetworkX` to direct extract and count the graphlets. Here we just used a brutal-force way to extract graphlet instances with a given number of nodes."
   ]
  },
  {
   "cell_type": "code",
   "execution_count": 28,
   "metadata": {
    "scrolled": true
   },
   "outputs": [
    {
     "data": {
      "image/png": "[encoded data removed]",
      "text/plain": [
       "<Figure size 432x288 with 1 Axes>"
      ]
     },
     "metadata": {},
     "output_type": "display_data"
    }
   ],
   "source": [
    "G = nx.Graph()\n",
    "G.add_nodes_from([\"1\", \"2\", \"3\", \"4\", \"5\"])\n",
    "G.add_edges_from([(\"1\", \"2\"),\n",
    "                  (\"1\", \"3\"),\n",
    "                  (\"2\", \"3\"),\n",
    "                  (\"2\", \"4\"),\n",
    "                  (\"3\", \"5\")\n",
    "                 ])\n",
    "nx.draw(G, with_labels=True, node_color='r')"
   ]
  },
  {
   "cell_type": "code",
   "execution_count": 39,
   "metadata": {},
   "outputs": [
    {
     "name": "stdout",
     "output_type": "stream",
     "text": [
      "[('1', '2'), ('1', '3'), ('2', '3')]\n",
      "[('1', '2'), ('2', '4')]\n",
      "[('1', '3'), ('3', '5')]\n"
     ]
    }
   ],
   "source": [
    "import itertools\n",
    "n = 3\n",
    "for sub_nodes in itertools.combinations(G.nodes(), 3):\n",
    "    if \"1\" in sub_nodes:\n",
    "        subg = G.subgraph(sub_nodes)\n",
    "        if nx.is_connected(subg):\n",
    "            print(subg.edges())"
   ]
  },
  {
   "cell_type": "markdown",
   "metadata": {},
   "source": [
    "![](figures/02-tradition-ml_22.jpeg)"
   ]
  },
  {
   "cell_type": "markdown",
   "metadata": {},
   "source": [
    "## Summary\n",
    "### Importance-based features\n",
    "![](figures/02-tradition-ml_24.jpeg)\n",
    "\n",
    "### Structure-based features\n",
    "![](figures/02-tradition-ml_25.jpeg)"
   ]
  },
  {
   "cell_type": "code",
   "execution_count": null,
   "metadata": {},
   "outputs": [],
   "source": []
  }
 ],
 "metadata": {
  "kernelspec": {
   "display_name": "Python 3",
   "language": "python",
   "name": "python3"
  },
  "language_info": {
   "codemirror_mode": {
    "name": "ipython",
    "version": 3
   },
   "file_extension": ".py",
   "mimetype": "text/x-python",
   "name": "python",
   "nbconvert_exporter": "python",
   "pygments_lexer": "ipython3",
   "version": "3.7.7"
  }
 },
 "nbformat": 4,
 "nbformat_minor": 4
}
